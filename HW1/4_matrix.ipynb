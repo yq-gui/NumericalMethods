{
 "cells": [
  {
   "cell_type": "markdown",
   "metadata": {},
   "source": [
    "This code is a direct matrix solver using Cholesky decomposition dealing with a well-known ill-conditioned matrix - Hilbert matrix. Numerical instability in solving equations with Hilbert matrix will also be discussed, which is due to condition number of Hilbert matrix."
   ]
  },
  {
   "cell_type": "markdown",
   "metadata": {},
   "source": [
    "## 1. Direct matrix solver using Cholesky decomposition"
   ]
  },
  {
   "cell_type": "code",
   "execution_count": 174,
   "metadata": {},
   "outputs": [],
   "source": [
    "import numpy as np\n",
    "def generate_hilbert_matrix(n, dtype):\n",
    "    \"\"\"\n",
    "    Generate Hilbert matrix.\n",
    "    \"\"\"\n",
    "    A = np.ones((n, n), dtype = dtype)\n",
    "    for i in range(n):\n",
    "        A[i] = 1/np.arange(i + 1, i + n + 1, 1)\n",
    "    return A\n",
    "\n",
    "def cholesky_decomposition(A, dtype, epsilon=1e-15):\n",
    "    \"\"\"\n",
    "    Perform Cholesky decomposition on a symmetric positive-definite matrix A.\n",
    "    Returns the lower triangular matrix L such that A = L * L^T.\n",
    "    \"\"\"\n",
    "    n = A.shape[0]\n",
    "    A_reg = A + np.eye(n) * epsilon # Avoid round-off error when n is large\n",
    "    L = np.zeros_like(A, dtype = dtype)\n",
    "    for i in range(n):\n",
    "        for j in range(i + 1):\n",
    "            sum_k = sum(L[i,:j] * L[j,:j]) \n",
    "            if i == j:\n",
    "                L[i][j] = np.sqrt(A_reg[i][i] - sum_k)  # L_ij for i == j\n",
    "            else:\n",
    "                L[i][j] = (A_reg[i][j] - sum_k) / L[j][j] # L_ij for i != j\n",
    "    return L"
   ]
  },
  {
   "cell_type": "markdown",
   "metadata": {},
   "source": [
    "## 2. Solve equation Ax=b for both single and double precisions"
   ]
  },
  {
   "cell_type": "code",
   "execution_count": 175,
   "metadata": {},
   "outputs": [],
   "source": [
    "def cholesky_solver(A, b, dtype):\n",
    "    \"\"\"\n",
    "    Solve Ax = b using Cholesky decomposition.\n",
    "    \"\"\"\n",
    "    L = cholesky_decomposition(A, dtype = dtype)\n",
    "\n",
    "    # Solve Ly = b using forward substitution\n",
    "    y = np.zeros_like(b, dtype = dtype)\n",
    "    for i in range(len(b)):\n",
    "        y[i] = (b[i] - np.dot(L[i, :i], y[:i])) / L[i, i]\n",
    "\n",
    "    # Solve L^T x = y using backward substitution\n",
    "    x = np.zeros_like(b, dtype = dtype)\n",
    "    for i in range(len(b) - 1, -1, -1):\n",
    "        x[i] = (y[i] - np.dot(L.T[i, i + 1:], x[i + 1:])) / L[i, i]\n",
    "\n",
    "    return x"
   ]
  },
  {
   "cell_type": "code",
   "execution_count": 195,
   "metadata": {},
   "outputs": [
    {
     "name": "stdout",
     "output_type": "stream",
     "text": [
      "------Single Precision------\n",
      "Decomposed matrix L:\n",
      " [[1.         0.         0.         0.         0.        ]\n",
      " [0.5        0.28867516 0.         0.         0.        ]\n",
      " [0.33333334 0.2886751  0.0745357  0.         0.        ]\n",
      " [0.25       0.25980762 0.11180344 0.01889827 0.        ]\n",
      " [0.2        0.2309401  0.12777534 0.03779594 0.00476525]]\n",
      "Solution x: [0.9999579 1.0007868 0.9965882 1.005182  0.997452 ]\n",
      "Relative error: 0.005182028\n"
     ]
    }
   ],
   "source": [
    "## solve Ax=b for n = 5 (single precision)\n",
    "n = 5 \n",
    "dtype = np.float32\n",
    "print(\"------Single Precision------\")\n",
    "A = generate_hilbert_matrix(n, dtype = dtype)\n",
    "L = cholesky_decomposition(A, dtype = dtype)\n",
    "print(\"Decomposed matrix L:\\n\", L)\n",
    "\n",
    "b = np.ones(n, dtype = dtype)\n",
    "for i in range(len(b)):\n",
    "    b[i] = sum(1/(1 + i + j) for j in range(n))\n",
    "\n",
    "x = cholesky_solver(A, b, dtype = dtype)\n",
    "print(\"Solution x:\", x)\n",
    "relative_error = max(x-np.ones(n, dtype = dtype))\n",
    "print(\"Relative error:\", relative_error)"
   ]
  },
  {
   "cell_type": "code",
   "execution_count": 194,
   "metadata": {},
   "outputs": [
    {
     "name": "stdout",
     "output_type": "stream",
     "text": [
      "------Double Precision------\n",
      "Decomposed matrix L:\n",
      " [[1.         0.         0.         0.         0.        ]\n",
      " [0.5        0.28867513 0.         0.         0.        ]\n",
      " [0.33333333 0.28867513 0.0745356  0.         0.        ]\n",
      " [0.25       0.25980762 0.1118034  0.01889822 0.        ]\n",
      " [0.2        0.23094011 0.12777531 0.03779645 0.0047619 ]]\n",
      "Solution x: [1. 1. 1. 1. 1.]\n",
      "Relative error: 5.129008329163298e-12\n"
     ]
    }
   ],
   "source": [
    "## solve Ax=b for n = 5 (double precision)\n",
    "n = 5 \n",
    "dtype = np.float64\n",
    "print(\"------Double Precision------\")\n",
    "A = generate_hilbert_matrix(n, dtype = dtype)\n",
    "L = cholesky_decomposition(A, dtype = dtype)\n",
    "print(\"Decomposed matrix L:\\n\", L)\n",
    "\n",
    "b = np.ones(n, dtype = dtype)\n",
    "for i in range(len(b)):\n",
    "    b[i] = sum(1/(1 + i + j) for j in range(n))\n",
    "\n",
    "x = cholesky_solver(A, b, dtype = dtype)\n",
    "print(\"Solution x:\", x)\n",
    "relative_error = max(x-np.ones(n, dtype = dtype))\n",
    "print(\"Relative error:\", relative_error)"
   ]
  },
  {
   "cell_type": "markdown",
   "metadata": {},
   "source": [
    "## 3. At what n, relative error will be larger than 50\\% for single/double precision?"
   ]
  },
  {
   "cell_type": "code",
   "execution_count": 202,
   "metadata": {},
   "outputs": [
    {
     "name": "stdout",
     "output_type": "stream",
     "text": [
      "For SINGLE precision, when n = 7, relative error will larger than 50% and the solution becomes unstable.\n"
     ]
    }
   ],
   "source": [
    "## At what n, relative error will larger than 50%? (single precision)\n",
    "n = 5\n",
    "dtype = np.float32\n",
    "while True:\n",
    "    A = generate_hilbert_matrix(n, dtype = dtype)\n",
    "    b = np.ones(n, dtype = dtype)\n",
    "    for i in range(len(b)):\n",
    "        b[i] = sum(1/(1 + i + j) for j in range(n))\n",
    "    x = cholesky_solver(A, b, dtype = dtype)\n",
    "    relative_error = max(abs(x-np.ones(n, dtype = dtype)))\n",
    "    if relative_error >= 0.5:\n",
    "        break\n",
    "    n += 1\n",
    "print(f\"For SINGLE precision, when n = {n}, relative error will larger than 50% and the solution becomes unstable.\")"
   ]
  },
  {
   "cell_type": "code",
   "execution_count": 203,
   "metadata": {},
   "outputs": [
    {
     "name": "stdout",
     "output_type": "stream",
     "text": [
      "For DOUBLE precision, when n = 28, relative error will larger than 50% and the solution becomes unstable.\n"
     ]
    }
   ],
   "source": [
    "## At what n, relative error will larger than 50%? (double precision)\n",
    "n = 5\n",
    "dtype = np.float64\n",
    "while True:\n",
    "    A = generate_hilbert_matrix(n, dtype = dtype)\n",
    "    b = np.ones(n, dtype = dtype)\n",
    "    for i in range(len(b)):\n",
    "        b[i] = sum(1/(1 + i + j) for j in range(n))\n",
    "    x = cholesky_solver(A, b, dtype = dtype)\n",
    "    relative_error = max(abs(x-np.ones(n, dtype = dtype)))\n",
    "    if relative_error >= 0.5:\n",
    "        break\n",
    "    n += 1\n",
    "print(f\"For DOUBLE precision, when n = {n}, relative error will larger than 50% and the solution becomes unstable.\")"
   ]
  },
  {
   "cell_type": "markdown",
   "metadata": {},
   "source": [
    "## 4. The condition number of A for n = 3, 6, 9, 12"
   ]
  },
  {
   "cell_type": "code",
   "execution_count": 207,
   "metadata": {},
   "outputs": [
    {
     "name": "stdout",
     "output_type": "stream",
     "text": [
      "Condition number for n = 3:  1.8333333333333333\n",
      "Condition number for n = 6:  2.4499999999999997\n",
      "Condition number for n = 9:  2.8289682539682537\n",
      "Condition number for n = 12:  3.103210678210678\n"
     ]
    }
   ],
   "source": [
    "def calculate_condition_number(A):\n",
    "    \"\"\"\n",
    "    Calculate the condition number of a matrix A based on infinity-norm.\n",
    "    \"\"\"\n",
    "    n = A.shape[0]\n",
    "    C = np.ones(n, dtype = np.float64)\n",
    "    for i in range(n):\n",
    "        C[i] = sum(abs(A[i]))\n",
    "    return max(C)\n",
    "\n",
    "n_list = [3, 6, 9, 12]\n",
    "for n in n_list:\n",
    "    condition_number = calculate_condition_number(generate_hilbert_matrix(n, dtype = np.float64))\n",
    "    print(f\"Condition number for n = {n}: \",condition_number)"
   ]
  },
  {
   "cell_type": "markdown",
   "metadata": {},
   "source": [
    "As can be seen, as n becomes larger, the condition number of A is larger, which means A is more ill-conditioned."
   ]
  },
  {
   "cell_type": "markdown",
   "metadata": {},
   "source": [
    "## 5. Suggestion: Use Sigular Value Decomposition.\n",
    "\n",
    "Sigular value decomposition can handle ill-conditioned matrix by isolating and controlling the components that contribute to numerical instability."
   ]
  }
 ],
 "metadata": {
  "kernelspec": {
   "display_name": "Python 3",
   "language": "python",
   "name": "python3"
  },
  "language_info": {
   "codemirror_mode": {
    "name": "ipython",
    "version": 3
   },
   "file_extension": ".py",
   "mimetype": "text/x-python",
   "name": "python",
   "nbconvert_exporter": "python",
   "pygments_lexer": "ipython3",
   "version": "3.9.6"
  }
 },
 "nbformat": 4,
 "nbformat_minor": 2
}
